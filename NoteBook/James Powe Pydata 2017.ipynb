{
 "cells": [
  {
   "cell_type": "markdown",
   "metadata": {},
   "source": [
    "# Building Web-base Analysis & simulation Platforms with react, Flask, Celery, Bokeh, and Numpy ## "
   ]
  },
  {
   "cell_type": "markdown",
   "metadata": {},
   "source": [
    "Description\n",
    "What use is analytical code if it can't be integrated into a business workflow to solve real problems? This tutorial is about integrating analytical work into a real production system that can be used by business users. It focuses on building a web-based platform for managing long-running analytical code and presenting results in a convenient format, using cutting-edge combination of tools.\n",
    "\n",
    "Abstract\n",
    "The purpose of this stack is to be able to rapidly create web-based environments for users to interact with the results of analytical and simulation processes (without needing to retrain one's self as a web programmer!)\n",
    "\n",
    "This tutorial is composed of the following pieces:\n",
    "\n",
    "building a simple simulation using Numpy. For the purposes of this tutorial, we model a very simple Monte Carlo simulation with a number of user-controllable, tweakable algorithm inputs and model parameters. The simulation is chosen to be simple enough to present and code quickly. The purpose of this tutorial is not building Monte Carlo simulations but packaging them into lightweight production systems.\n",
    "\n",
    "Celery for launching and managing the above simulation jobs. This tutorial will not cover all aspects of Celery. It will merely show how the tool can be used as a job management system.\n",
    "\n",
    "Flask as a very thin JSON API layer. The tutorial will make use of Flask plugins for quickly building JSON APIs. This is the thinnest and least interesting component of the tutorial and won't be covered in great depth.\n",
    "\n",
    "React + Redux for a slick, simple single-page app. Attendees are expected to be least familiar with Javascript and the React ecosystem. The tutorial will spend a fair amount of time on this component, and will cover setting up build environment using Babel (for JSX transpilation) and Gulp as a build system.\n",
    "\n",
    "Bokeh for presenting graphical results from the simulation. This component may be cut based on time considerations.\n"
   ]
  },
  {
   "cell_type": "markdown",
   "metadata": {},
   "source": [
    "## Monte carlo simulation ## "
   ]
  },
  {
   "cell_type": "code",
   "execution_count": null,
   "metadata": {},
   "outputs": [],
   "source": [
    "from numpy import sqrt, linspace\n",
    "from numpy.random import uniform\n",
    "\n",
    "from bokeh.plotting import figure\n",
    "from bokeh.io import show, output_notebook\n",
    "\n",
    "from IPython.display import display_latex, display\n",
    "\n",
    "output_notebook()"
   ]
  },
  {
   "cell_type": "code",
   "execution_count": null,
   "metadata": {},
   "outputs": [],
   "source": [
    "xs = linspace(0, 1, 1000)\n",
    "ys =sqrt(1 - xs **2)\n",
    "\n",
    "SIZE = 100000\n",
    "pts = uniform(0, 1, size=(SIZE,2))\n",
    "inside = pts[:, 0] **2 + pts[:, 1] **2 < 1\n",
    "\n",
    "pi = sum(inside) / SIZE * 4\n",
    "\n",
    "\n",
    "fig= figure()\n",
    "fig.line(xs,ys, color='blue')\n",
    "fig.scatter(pts[inside][:, 0], pts[inside][:, 1], color='blue')\n",
    "fig.scatter(pts[~inside][:, 0], pts[~inside][:, 1], color='red')\n",
    "\n",
    "\n",
    "display_latex(r'$$ \\pi  \\approx {} $$'.format(pi), raw=True)\n",
    "\n",
    "\n",
    "show(fig)"
   ]
  },
  {
   "cell_type": "code",
   "execution_count": null,
   "metadata": {},
   "outputs": [],
   "source": []
  },
  {
   "cell_type": "code",
   "execution_count": null,
   "metadata": {},
   "outputs": [],
   "source": []
  }
 ],
 "metadata": {
  "kernelspec": {
   "display_name": "Python 3",
   "language": "python",
   "name": "python3"
  },
  "language_info": {
   "codemirror_mode": {
    "name": "ipython",
    "version": 3
   },
   "file_extension": ".py",
   "mimetype": "text/x-python",
   "name": "python",
   "nbconvert_exporter": "python",
   "pygments_lexer": "ipython3",
   "version": "3.7.1"
  }
 },
 "nbformat": 4,
 "nbformat_minor": 2
}
